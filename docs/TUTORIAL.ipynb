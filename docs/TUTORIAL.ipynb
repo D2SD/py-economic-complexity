{
 "cells": [
  {
   "cell_type": "markdown",
   "metadata": {},
   "source": [
    "# Tutorial\n",
    "\n",
    "In this section we are going to develop a brief example to show you how use this package to obtain an ECI ranking, using data from [the Observatory of Economic Complexity](https://oec.world). \n",
    "\n",
    "Our goal will be to reproduce the ECI ranking using 2018 Exports data, classified according the Harmonized System (HS92) with a depth of 4 Digits, for Countries with a population of at least 1 million, and Exports of at least \\$1 billion, and Products with world trade over US \\$500 million.\n",
    "For more details, [see link](https://oec.world/en/resources/methods)."
   ]
  },
  {
   "cell_type": "markdown",
   "metadata": {},
   "source": [
    "Let us start by calling some packages, including the `complexity` package (which we will alias as `cplx`)"
   ]
  },
  {
   "cell_type": "code",
   "execution_count": 1,
   "metadata": {},
   "outputs": [],
   "source": [
    "from urllib.parse import urlencode\n",
    "\n",
    "import economic_complexity as ecplx\n",
    "import numpy as np\n",
    "import pandas as pd"
   ]
  },
  {
   "cell_type": "markdown",
   "metadata": {},
   "source": [
    "We will use the following function to simplify the data request from the OEC's REST API."
   ]
  },
  {
   "cell_type": "code",
   "execution_count": 3,
   "metadata": {},
   "outputs": [],
   "source": [
    "def request_data(params):\n",
    "    url = \"https://dev.oec.world/olap-proxy/data.csv?{}\".format(urlencode(params))\n",
    "    return pd.read_csv(url)"
   ]
  },
  {
   "cell_type": "markdown",
   "metadata": {},
   "source": [
    "Now, we fetch the trade data and population."
   ]
  },
  {
   "cell_type": "code",
   "execution_count": 4,
   "metadata": {},
   "outputs": [],
   "source": [
    "# Sum of Exports by Country and HS92 Level 4 Code between 2016 and 2018\n",
    "df_trade = request_data({\n",
    "    \"cube\": \"trade_i_baci_a_92\",\n",
    "    \"measures\": \"Trade Value\",\n",
    "    \"drilldowns\": \"Exporter Country,HS4\",\n",
    "    \"Year\": \"2016,2017,2018\",\n",
    "})\n",
    "\n",
    "# World Population by Country for Year 2018\n",
    "df_wdi = request_data({\n",
    "    \"cube\": \"indicators_i_wdi_a\",\n",
    "    \"measures\": \"Measure\",\n",
    "    \"drilldowns\": \"Country\",\n",
    "    \"Indicator\": \"SP.POP.TOTL\",\n",
    "    \"Year\": \"2018\",\n",
    "})"
   ]
  },
  {
   "cell_type": "markdown",
   "metadata": {},
   "source": [
    "Next, filter the data. This is necessary to make the calculations properly. "
   ]
  },
  {
   "cell_type": "code",
   "execution_count": 9,
   "metadata": {},
   "outputs": [],
   "source": [
    "df = df_trade.copy()\n",
    "\n",
    "# Countries with more than 1M habitants\n",
    "df_population = df_wdi[df_wdi['Measure'] > 1000000]\n",
    "# Products with more than $1.5B in global exports between 2016-2018\n",
    "df_products = df.groupby('HS4 ID')['Trade Value'].sum().reset_index()\n",
    "df_products = df_products[df_products['Trade Value'] > 3*500000000]\n",
    "# Countries with more than $3B in global exports between 2016-2018\n",
    "df_countries = df.groupby('Country ID')['Trade Value'].sum().reset_index()\n",
    "df_countries = df_countries[df_countries['Trade Value'] > 3*1000000000]\n",
    "\n",
    "df_filter  = df[\n",
    "  (df['Country ID'].isin(df_population['Country ID'])) &\n",
    "  (df['Country ID'].isin(df_countries['Country ID'])) & \n",
    "  (df['HS4 ID'].isin(df_products['HS4 ID']))\n",
    "]"
   ]
  },
  {
   "cell_type": "markdown",
   "metadata": {},
   "source": [
    "Now let's format the data to compute the RCA matrix and the ECI. "
   ]
  },
  {
   "cell_type": "code",
   "execution_count": 10,
   "metadata": {},
   "outputs": [],
   "source": [
    "df_pivot = pd.pivot_table(df_filter, index=['Country ID'],\n",
    "                                     columns=['HS4 ID'],\n",
    "                                     values='Trade Value')\\\n",
    "             .reset_index()\\\n",
    "             .set_index('Country ID')\\\n",
    "             .dropna(axis=1, how=\"all\")\\\n",
    "             .fillna(0)\\\n",
    "             .astype(float)"
   ]
  },
  {
   "cell_type": "markdown",
   "metadata": {},
   "source": [
    "Compute the RCA matrix, ECI and PCI."
   ]
  },
  {
   "cell_type": "code",
   "execution_count": 11,
   "metadata": {},
   "outputs": [],
   "source": [
    "rca = ecplx.rca(df_pivot)\n",
    "ECI, PCI = ecplx.complexity(rca)"
   ]
  },
  {
   "cell_type": "markdown",
   "metadata": {},
   "source": [
    "Finally, sort the ECI list to create your ranking, and compare with the info in [oec.world](https://oec.world/en/rankings/eci/hs4/hs92)"
   ]
  },
  {
   "cell_type": "code",
   "execution_count": 12,
   "metadata": {},
   "outputs": [
    {
     "data": {
      "text/plain": [
       "Country ID\n",
       "asjpn    2.383443\n",
       "asxxb    2.219043\n",
       "euche    2.084139\n",
       "askor    1.998266\n",
       "eudeu    1.977178\n",
       "           ...   \n",
       "afgin   -1.679709\n",
       "ocpng   -1.769314\n",
       "asirq   -1.947585\n",
       "afssd   -2.208514\n",
       "aftcd   -2.489747\n",
       "Length: 147, dtype: float64"
      ]
     },
     "execution_count": 12,
     "metadata": {},
     "output_type": "execute_result"
    }
   ],
   "source": [
    "ECI.sort_values(ascending=False)"
   ]
  }
 ],
 "metadata": {
  "kernelspec": {
   "display_name": "Python 3.7.9 64-bit ('python-complexity': pipenv)",
   "metadata": {
    "interpreter": {
     "hash": "a39c6737294e9f54c000fcaf44f755ae2cec5402446662ffcccffe8a1097bf1f"
    }
   },
   "name": "python3"
  },
  "language_info": {
   "codemirror_mode": {
    "name": "ipython",
    "version": 3
   },
   "file_extension": ".py",
   "mimetype": "text/x-python",
   "name": "python",
   "nbconvert_exporter": "python",
   "pygments_lexer": "ipython3",
   "version": "3.7.9"
  },
  "orig_nbformat": 2
 },
 "nbformat": 4,
 "nbformat_minor": 2
}
